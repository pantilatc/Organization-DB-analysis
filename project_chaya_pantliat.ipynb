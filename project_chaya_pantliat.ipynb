{
 "cells": [
  {
   "cell_type": "code",
   "execution_count": null,
   "id": "c12c1e1a-5d68-4c6a-8239-fab71a640c90",
   "metadata": {},
   "outputs": [],
   "source": [
    "import pandas as pd\n",
    "import matplotlib as mpl\n",
    "import matplotlib.pyplot as plt\n",
    "import numpy as np\n",
    "import seaborn as sb\n",
    "%matplotlib inline"
   ]
  },
  {
   "cell_type": "markdown",
   "id": "01bec33b-2ade-42c4-a130-1b3203faadc2",
   "metadata": {},
   "source": [
    "# Data placement"
   ]
  },
  {
   "cell_type": "code",
   "execution_count": null,
   "id": "0e441241-7a9a-4f89-89d5-272d229e0170",
   "metadata": {},
   "outputs": [],
   "source": [
    "data=pd.read_excel('C:/Users/5/Documents/data_analyst/pandas/project/milgot.xlsx')"
   ]
  },
  {
   "cell_type": "code",
   "execution_count": null,
   "id": "66015244-31a8-4688-b01f-51a267ab9a0b",
   "metadata": {},
   "outputs": [],
   "source": [
    "data.info()"
   ]
  },
  {
   "cell_type": "code",
   "execution_count": null,
   "id": "e8e704b1-d580-4427-8739-69f27b44c91a",
   "metadata": {},
   "outputs": [],
   "source": [
    "data"
   ]
  },
  {
   "cell_type": "code",
   "execution_count": null,
   "id": "77d0df23-e596-4fbc-991e-56661c0f6c47",
   "metadata": {},
   "outputs": [],
   "source": [
    "t1=data[data[\"Type\"]==1]"
   ]
  },
  {
   "cell_type": "code",
   "execution_count": null,
   "id": "a8172c07-01c4-4cff-ab46-f973cfc17332",
   "metadata": {},
   "outputs": [],
   "source": [
    "t1.head()"
   ]
  },
  {
   "cell_type": "code",
   "execution_count": null,
   "id": "8c3606b1-35ab-4722-8967-2030ba50521f",
   "metadata": {},
   "outputs": [],
   "source": [
    "t2=data[data[\"Type\"]==2]"
   ]
  },
  {
   "cell_type": "code",
   "execution_count": null,
   "id": "644f08b0-e6eb-4e34-ad4d-a3b66450cc01",
   "metadata": {},
   "outputs": [],
   "source": [
    "t2.head()"
   ]
  },
  {
   "cell_type": "code",
   "execution_count": null,
   "id": "8df2300c-abc6-46de-bda8-ec5791fc3ce8",
   "metadata": {},
   "outputs": [],
   "source": [
    "t3=data[data[\"Type\"]==3]"
   ]
  },
  {
   "cell_type": "code",
   "execution_count": null,
   "id": "4c7f9461-e8c9-46e8-802a-e39fcc9c71f7",
   "metadata": {},
   "outputs": [],
   "source": [
    "t3.head()"
   ]
  },
  {
   "cell_type": "code",
   "execution_count": null,
   "id": "a3129fae-4e38-4ca1-8ea0-bfadfcce4645",
   "metadata": {},
   "outputs": [],
   "source": [
    "plt.style.available"
   ]
  },
  {
   "cell_type": "code",
   "execution_count": null,
   "id": "ac7f95b4-c71e-43bd-8006-aacbd1327516",
   "metadata": {},
   "outputs": [],
   "source": [
    "plt.style.use('seaborn-v0_8')"
   ]
  },
  {
   "cell_type": "markdown",
   "id": "03e8df18-84ed-4c52-a28c-2d6d49a2183f",
   "metadata": {},
   "source": [
    "# Analysis of type t1 institutions:"
   ]
  },
  {
   "cell_type": "code",
   "execution_count": null,
   "id": "a86e0c52-074a-4c2b-a3fc-e1acc9d8adfe",
   "metadata": {},
   "outputs": [],
   "source": [
    "t1.describe()"
   ]
  },
  {
   "cell_type": "code",
   "execution_count": null,
   "id": "bd48bd3c-f436-4b21-8812-9766eeb3f4c8",
   "metadata": {},
   "outputs": [],
   "source": [
    "t1.groupby('Institution name')[['October scholarship','November scholarship','December scholarship']].mean()"
   ]
  },
  {
   "cell_type": "code",
   "execution_count": null,
   "id": "01da1032-7218-4d97-bec8-ab7437450c36",
   "metadata": {},
   "outputs": [],
   "source": [
    "t1.groupby('Institution name')[['Attendance in October','Attendance in November','Attendance in December']].mean()"
   ]
  },
  {
   "cell_type": "code",
   "execution_count": null,
   "id": "1de3a6ee-942d-47ef-9a62-92bbb11627d2",
   "metadata": {},
   "outputs": [],
   "source": [
    "sb.relplot(data=t1, x=\"October scholarship\", y=\"Attendance in October\",\n",
    "           col=\"Institution name\",\n",
    "           height=3.5, aspect=1.5),\n",
    "sb.relplot(data=t1, x='November scholarship', y='Attendance in November', \n",
    "           col='Institution name', color='g', \n",
    "           height=3.5, aspect=1.5),\n",
    "sb.relplot(data=t1, x='December scholarship', y='Attendance in December', \n",
    "           col='Institution name', color='y', \n",
    "           height=3.5, aspect=1.5)\n",
    "plt.show()"
   ]
  },
  {
   "cell_type": "code",
   "execution_count": null,
   "id": "87453acd-970d-41e0-99e3-a74af78f4c0e",
   "metadata": {},
   "outputs": [],
   "source": [
    "mat1=t1[t1[\"Institution name\"]=='Seder A']['October scholarship','November scholarship','December scholarship'].mean()"
   ]
  },
  {
   "cell_type": "code",
   "execution_count": null,
   "id": "f37cb2fb-91ce-4058-a2a3-599939aa6621",
   "metadata": {},
   "outputs": [],
   "source": [
    "corrt1=mat1[['October scholarship',\n",
    "             'November scholarship',\n",
    "             'December scholarship',\n",
    "             'Attendance in October',\n",
    "             'Attendance in November',\n",
    "             'Attendance in December']].corr()"
   ]
  },
  {
   "cell_type": "code",
   "execution_count": null,
   "id": "15da3b7e-a21f-4e70-9951-9d18e17ee388",
   "metadata": {},
   "outputs": [],
   "source": [
    "corrt1"
   ]
  },
  {
   "cell_type": "code",
   "execution_count": null,
   "id": "cd6008ad-8eed-455f-b346-62d74f5129ae",
   "metadata": {},
   "outputs": [],
   "source": [
    "plt.figure(figsize=(6,4))\n",
    "sb.heatmap(corrt1, cmap=\"viridis\", annot=True)\n",
    "plt.title(\"scholarship & Attendance \\'Seder A\\'\")\n",
    "plt.show()"
   ]
  },
  {
   "cell_type": "code",
   "execution_count": null,
   "id": "7e8a6392-3387-4963-878f-982bfb81fdc8",
   "metadata": {},
   "outputs": [],
   "source": [
    "mbt1=t1[t1[\"Institution name\"]=='Seder B']"
   ]
  },
  {
   "cell_type": "code",
   "execution_count": null,
   "id": "d3832b84-1d2c-489c-9d65-163b1311bb0d",
   "metadata": {},
   "outputs": [],
   "source": [
    "cort1=mbt1[['October scholarship',\n",
    "             'November scholarship',\n",
    "             'December scholarship',\n",
    "             'Attendance in October',\n",
    "             'Attendance in November',\n",
    "             'Attendance in December']].corr()"
   ]
  },
  {
   "cell_type": "code",
   "execution_count": null,
   "id": "a0d374fa-8efa-4688-a050-cac9c7deb4f8",
   "metadata": {},
   "outputs": [],
   "source": [
    "cort1"
   ]
  },
  {
   "cell_type": "code",
   "execution_count": null,
   "id": "f492ea70-33e6-4bb8-8fee-c9fcaea5d316",
   "metadata": {},
   "outputs": [],
   "source": [
    "plt.figure(figsize=(6,4))\n",
    "sb.heatmap(cort1, cmap=\"viridis\", annot=True)\n",
    "plt.title(\"scholarship & Attendance \\'Seder B\\'\")\n",
    "plt.show()"
   ]
  },
  {
   "cell_type": "code",
   "execution_count": null,
   "id": "e473b00e-28b3-44b2-b948-25b92965881c",
   "metadata": {},
   "outputs": [],
   "source": [
    "sb.relplot(data=t1, y=\"Attendance in October\", x=\"Institution name\", \n",
    "           color='g',\n",
    "           height=3.5, aspect=1.5 )\n",
    "sb.relplot(data=t1, y=\"October scholarship\", x=\"Institution name\", \n",
    "           color='y',\n",
    "           height=3.5, aspect=1.5 )\n",
    "sb.relplot(data=t1, y=\"Attendance in November\", x=\"Institution name\", \n",
    "           color='g',\n",
    "           height=3.5, aspect=1.5 )\n",
    "sb.relplot(data=t1, y=\"November scholarship\", x=\"Institution name\", \n",
    "           color='y',\n",
    "           height=3.5, aspect=1.5 )\n",
    "sb.relplot(data=t1, y=\"Attendance in December\", x=\"Institution name\", \n",
    "           color='g',\n",
    "           height=3.5, aspect=1.5 )\n",
    "sb.relplot(data=t1, y=\"December scholarship\", x=\"Institution name\", \n",
    "           color='y',\n",
    "           height=3.5, aspect=1.5 )\n",
    "plt.show()"
   ]
  },
  {
   "cell_type": "code",
   "execution_count": null,
   "id": "d59f74b7-2612-42d0-b6e5-0c65ad81e8dd",
   "metadata": {},
   "outputs": [],
   "source": []
  },
  {
   "cell_type": "markdown",
   "id": "d31b555f-c323-4916-aa13-bae0ac4b601d",
   "metadata": {},
   "source": [
    "# Analysis of type t2 institutions:"
   ]
  },
  {
   "cell_type": "code",
   "execution_count": null,
   "id": "ce37145f-1c45-484b-82c0-7f1f27f2bd14",
   "metadata": {},
   "outputs": [],
   "source": [
    "t2.describe()"
   ]
  },
  {
   "cell_type": "code",
   "execution_count": null,
   "id": "2810083e-4082-4997-8e74-e142ad379ef4",
   "metadata": {},
   "outputs": [],
   "source": [
    "t2.groupby('Institution name')[['October scholarship','November scholarship','December scholarship']].mean().sort_values(\"Institution name\")"
   ]
  },
  {
   "cell_type": "code",
   "execution_count": null,
   "id": "7a61a83e-af9c-40a6-96dc-fb02344b2357",
   "metadata": {
    "scrolled": true
   },
   "outputs": [],
   "source": [
    "t2.groupby('Institution name')[['Attendance in October','Attendance in November','Attendance in December']].mean().sort_values(\"Institution name\")"
   ]
  },
  {
   "cell_type": "code",
   "execution_count": null,
   "id": "0b88d6b0-fef5-4f8c-ba7c-309784665e07",
   "metadata": {},
   "outputs": [],
   "source": [
    "t2[['October scholarship','November scholarship','December scholarship']].mean().to_frame()"
   ]
  },
  {
   "cell_type": "code",
   "execution_count": null,
   "id": "31634b16-00e3-4ba6-b156-f07c3a6dc6ef",
   "metadata": {},
   "outputs": [],
   "source": [
    "t2[['Attendance in October','Attendance in November','Attendance in December']].mean().to_frame()"
   ]
  },
  {
   "cell_type": "code",
   "execution_count": null,
   "id": "86f2a0a1-cc73-4e16-a343-1ffb5ea49aa9",
   "metadata": {},
   "outputs": [],
   "source": [
    "sb.relplot(data=t2, x=\"October scholarship\", y=\"Attendance in October\",\n",
    "           hue=\"Institution name\",\n",
    "           height=3.5, aspect=1.5),\n",
    "sb.relplot(data=t2, x='November scholarship', y='Attendance in November',\n",
    "           hue='Institution name',\n",
    "           height=3.5, aspect=1.5),\n",
    "sb.relplot(data=t2, x='December scholarship', y='Attendance in December',\n",
    "           hue='Institution name',\n",
    "           height=3.5, aspect=1.5)\n",
    "plt.show()"
   ]
  },
  {
   "cell_type": "code",
   "execution_count": null,
   "id": "f66f8e82-28c4-41cd-9909-d01d2e4225e9",
   "metadata": {},
   "outputs": [],
   "source": [
    "sb.displot(data=t2, y=\"Attendance in October\", x=\"October scholarship\", \n",
    "           color='g',\n",
    "           height=3.5, aspect=1.5 )\n",
    "plt.title(\"Scholarship vs Attendance: October\")\n",
    "plt.show()"
   ]
  },
  {
   "cell_type": "code",
   "execution_count": null,
   "id": "f55b2185-77a5-4550-a869-d752400a73c6",
   "metadata": {},
   "outputs": [],
   "source": [
    "sb.relplot(data=t2, x=\"Attendance in October\", y=\"Institution name\", \n",
    "           color='g',\n",
    "           height=3.5, aspect=1.5 )\n",
    "sb.relplot(data=t2, x=\"October scholarship\", y=\"Institution name\", \n",
    "           color='y',\n",
    "           height=3.5, aspect=1.5 )\n",
    "plt.show()"
   ]
  },
  {
   "cell_type": "code",
   "execution_count": null,
   "id": "e8d27474-e859-4c07-8e03-905045e913a3",
   "metadata": {},
   "outputs": [],
   "source": [
    "plt.figure(figsize=(6,4))\n",
    "sb.boxplot(data=t2, y=\"Institution name\", x=\"October scholarship\",\n",
    "           hue=\"Institution name\",\n",
    "           width=0.4)\n",
    "plt.title(\"Statistics for the October scholarship\")\n",
    "plt.show()"
   ]
  },
  {
   "cell_type": "code",
   "execution_count": null,
   "id": "1ba71a11-0b8c-4b8d-92bf-8bbf3cef4b50",
   "metadata": {},
   "outputs": [],
   "source": [
    "sb.relplot(data=t2, x=\"Attendance in November\", y=\"Institution name\", \n",
    "           color='g',\n",
    "           height=3.5, aspect=1.5 )\n",
    "sb.relplot(data=t2, x=\"November scholarship\", y=\"Institution name\", \n",
    "           color='y',\n",
    "           height=3.5, aspect=1.5 )\n",
    "plt.show()"
   ]
  },
  {
   "cell_type": "code",
   "execution_count": null,
   "id": "78bc9c1f-1c11-4dad-afc8-de784c71d01e",
   "metadata": {},
   "outputs": [],
   "source": [
    "mt2=t2.groupby(\"Institution name\")[[\"November scholarship\",\"December scholarship\"]].mean()"
   ]
  },
  {
   "cell_type": "code",
   "execution_count": null,
   "id": "b4592293-21e8-42a5-93a2-66488feefe88",
   "metadata": {},
   "outputs": [],
   "source": [
    "mt2"
   ]
  },
  {
   "cell_type": "code",
   "execution_count": null,
   "id": "c4034b25-e0fa-481f-a148-eb7a5b355291",
   "metadata": {},
   "outputs": [],
   "source": [
    "sb.heatmap(data=mt2,\n",
    "           vmin=350, vmax=700,\n",
    "           cmap=\"viridis\")\n",
    "plt.title(\"Scholarship\")\n",
    "plt.show()"
   ]
  },
  {
   "cell_type": "code",
   "execution_count": null,
   "id": "ab1e9c02-9dc7-4067-9edd-44fa9fbddb92",
   "metadata": {},
   "outputs": [],
   "source": [
    "snt2=t2.groupby(\"Institution name\")[\"November scholarship\"].agg([\"mean\",\"count\"])"
   ]
  },
  {
   "cell_type": "code",
   "execution_count": null,
   "id": "2ecb7676-c2bb-4bf6-ac02-fb1dea207b08",
   "metadata": {},
   "outputs": [],
   "source": [
    "sdt2=t2.groupby(\"Institution name\")[\"December scholarship\"].agg([\"mean\",\"count\"])"
   ]
  },
  {
   "cell_type": "code",
   "execution_count": null,
   "id": "4e3ecc27-41b7-49d1-83a4-4944b1f58f92",
   "metadata": {},
   "outputs": [],
   "source": [
    "snt2"
   ]
  },
  {
   "cell_type": "code",
   "execution_count": null,
   "id": "630b0fcd-b168-49bc-ad52-cc4a6ce5318a",
   "metadata": {},
   "outputs": [],
   "source": [
    "sdt2"
   ]
  },
  {
   "cell_type": "code",
   "execution_count": null,
   "id": "e534d446-d02a-4f63-a378-b1f143d161ff",
   "metadata": {},
   "outputs": [],
   "source": [
    "sb.relplot(data=snt2, x=\"count\", y=\"mean\",\n",
    "           hue=\"Institution name\",\n",
    "           height=3.5, aspect=1.5 )\n",
    "plt.title(\"Average scholarship per student: November\")\n",
    "sb.relplot(data=sdt2, x=\"count\", y=\"mean\", \n",
    "           hue=\"Institution name\", \n",
    "           height=3.5, aspect=1.5 )\n",
    "plt.title(\"Average scholarship per student: December\")\n",
    "plt.show()"
   ]
  },
  {
   "cell_type": "code",
   "execution_count": null,
   "id": "e64d245f-f68b-4b17-9872-cff43a5e2e79",
   "metadata": {},
   "outputs": [],
   "source": [
    "ant2=t2.groupby(\"Institution name\")[\"Attendance in November\"].agg([\"mean\",\"count\"])"
   ]
  },
  {
   "cell_type": "code",
   "execution_count": null,
   "id": "7c8cad54-e134-4a20-aeee-cf3a75a52121",
   "metadata": {},
   "outputs": [],
   "source": [
    "adt2=t2.groupby(\"Institution name\")[\"Attendance in December\"].agg([\"mean\",\"count\"])"
   ]
  },
  {
   "cell_type": "code",
   "execution_count": null,
   "id": "6f9de954-93e7-46ad-aaf6-d4e2a11dc461",
   "metadata": {},
   "outputs": [],
   "source": [
    "ant2"
   ]
  },
  {
   "cell_type": "code",
   "execution_count": null,
   "id": "9b2153e2-d639-48ff-8a92-8afcd3cced71",
   "metadata": {},
   "outputs": [],
   "source": [
    "adt2"
   ]
  },
  {
   "cell_type": "code",
   "execution_count": null,
   "id": "dbebc589-10b6-4936-a05c-34b3347d2840",
   "metadata": {},
   "outputs": [],
   "source": [
    "sb.relplot(data=ant2, x=\"count\", y=\"mean\", \n",
    "           hue=\"Institution name\", \n",
    "           height=3.5, aspect=1.5 )\n",
    "plt.title(\"Average attendance per student: November\")\n",
    "sb.relplot(data=adt2, x=\"count\", y=\"mean\", \n",
    "           hue=\"Institution name\", \n",
    "           height=3.5, aspect=1.5 )\n",
    "plt.title(\"Average attendance per student: December\")\n",
    "plt.show()"
   ]
  },
  {
   "cell_type": "code",
   "execution_count": null,
   "id": "a3b75bd9-d125-47ed-b21a-d5d7043f5227",
   "metadata": {},
   "outputs": [],
   "source": []
  },
  {
   "cell_type": "markdown",
   "id": "bb9c7ec0-8305-4896-9c35-e9280d73aade",
   "metadata": {},
   "source": [
    "# Analysis of type t3 institutions:"
   ]
  },
  {
   "cell_type": "code",
   "execution_count": null,
   "id": "01fdb486-a1ff-494b-a405-dc64e5e68722",
   "metadata": {},
   "outputs": [],
   "source": [
    "t3.describe()"
   ]
  },
  {
   "cell_type": "code",
   "execution_count": null,
   "id": "21b8ad82-2a3f-48cc-91d2-fa2fc54de43e",
   "metadata": {},
   "outputs": [],
   "source": [
    "t3.groupby('Institution name')[['October scholarship','November scholarship','December scholarship']].mean()"
   ]
  },
  {
   "cell_type": "code",
   "execution_count": null,
   "id": "f40c94c6-e889-4982-956f-a714d3acf969",
   "metadata": {},
   "outputs": [],
   "source": [
    "t3.groupby('Institution name')[['Attendance in October','Attendance in November','Attendance in December']].mean()"
   ]
  },
  {
   "cell_type": "code",
   "execution_count": null,
   "id": "b838b789-8200-4ad8-9fed-10771fb98765",
   "metadata": {},
   "outputs": [],
   "source": [
    "t3[['October scholarship','November scholarship','December scholarship']].mean().to_frame()"
   ]
  },
  {
   "cell_type": "code",
   "execution_count": null,
   "id": "6d960741-7aa0-4d09-8a98-04151fc9799b",
   "metadata": {},
   "outputs": [],
   "source": [
    "t3[['Attendance in October','Attendance in November','Attendance in December']].mean().to_frame()"
   ]
  },
  {
   "cell_type": "code",
   "execution_count": null,
   "id": "eb26381f-f38d-4dd8-b4bc-d25aa3ba8409",
   "metadata": {},
   "outputs": [],
   "source": [
    "sb.relplot(data=t3, x=\"October scholarship\", y=\"Attendance in October\",\n",
    "           hue=\"Institution name\", \n",
    "           height=3.5, aspect=1.5),\n",
    "sb.relplot(data=t3, x='November scholarship', y='Attendance in November', \n",
    "           hue='Institution name', \n",
    "           height=3.5, aspect=1.5),\n",
    "sb.relplot(data=t3, x='December scholarship', y='Attendance in December', \n",
    "           hue='Institution name', \n",
    "           height=3.5, aspect=1.5)\n",
    "plt.show()"
   ]
  },
  {
   "cell_type": "code",
   "execution_count": null,
   "id": "521eb37e-f331-4fac-bd4f-8b29caae9246",
   "metadata": {},
   "outputs": [],
   "source": [
    "sb.displot(data=t3, x=\"Attendance in October\", \n",
    "           hue=\"Institution name\", kde=True, \n",
    "           height=3.5, aspect=1.5 )\n",
    "plt.title(\"Cumulative presence: October\")\n",
    "plt.show()"
   ]
  },
  {
   "cell_type": "code",
   "execution_count": null,
   "id": "0314db9d-352c-4117-995d-0070aebbf414",
   "metadata": {},
   "outputs": [],
   "source": [
    "plt.figure(figsize=(6,4))\n",
    "sb.barplot(data=t3, x=\"Institution name\", y=\"Attendance in October\", \n",
    "           hue=\"Institution name\", width=0.4)\n",
    "plt.title(\"Comparison of average attendance: October\")\n",
    "plt.show()"
   ]
  },
  {
   "cell_type": "code",
   "execution_count": null,
   "id": "f975bfc8-81c1-4db5-940c-aa5702103767",
   "metadata": {},
   "outputs": [],
   "source": [
    "plt.figure(figsize=(6,4))\n",
    "sb.barplot(data=t3, x=\"Institution name\", y=\"October scholarship\", \n",
    "           hue=\"Institution name\", width=0.4)\n",
    "plt.title(\"Comparison of average scholarship: October\")\n",
    "plt.show()"
   ]
  },
  {
   "cell_type": "code",
   "execution_count": null,
   "id": "a86ed01e-5672-434f-815c-2113426434d5",
   "metadata": {},
   "outputs": [],
   "source": [
    "sb.displot(data=t3, x=\"October scholarship\", \n",
    "           hue=\"Institution name\", kde=True, \n",
    "           height=3.5, aspect=1.5 )\n",
    "plt.title(\"Cumulative scholarship amounts: October\")\n",
    "plt.show()"
   ]
  },
  {
   "cell_type": "code",
   "execution_count": null,
   "id": "eb30caac-140b-4c9f-9a37-51cbe580de7b",
   "metadata": {},
   "outputs": [],
   "source": [
    "sb.catplot(data=t3, x=\"Institution name\", y=\"November scholarship\", \n",
    "           kind=\"swarm\", color='g',\n",
    "           height=3.5, aspect=1.5 )\n",
    "sb.catplot(data=t3, x=\"Institution name\", y=\"December scholarship\", \n",
    "           kind=\"swarm\", color='y', \n",
    "           height=3.5, aspect=1.5 )\n",
    "plt.show()"
   ]
  },
  {
   "cell_type": "code",
   "execution_count": null,
   "id": "b74544d1-cc92-4a52-8edc-9f2c0f99a557",
   "metadata": {},
   "outputs": [],
   "source": [
    "sb.catplot(data=t3, x=\"Institution name\", y=\"Attendance in November\", \n",
    "           kind=\"boxen\", color='g',\n",
    "           height=3.5, aspect=1.5 )\n",
    "sb.catplot(data=t3, x=\"Institution name\", y=\"Attendance in December\", \n",
    "           kind=\"boxen\", color='y', \n",
    "           height=3.5, aspect=1.5 )\n",
    "plt.show()"
   ]
  },
  {
   "cell_type": "code",
   "execution_count": null,
   "id": "e0d126bf-85e9-49d6-8dbb-df306cdf9c36",
   "metadata": {},
   "outputs": [],
   "source": []
  }
 ],
 "metadata": {
  "kernelspec": {
   "display_name": "Python 3 (ipykernel)",
   "language": "python",
   "name": "python3"
  },
  "language_info": {
   "codemirror_mode": {
    "name": "ipython",
    "version": 3
   },
   "file_extension": ".py",
   "mimetype": "text/x-python",
   "name": "python",
   "nbconvert_exporter": "python",
   "pygments_lexer": "ipython3",
   "version": "3.12.0"
  }
 },
 "nbformat": 4,
 "nbformat_minor": 5
}
